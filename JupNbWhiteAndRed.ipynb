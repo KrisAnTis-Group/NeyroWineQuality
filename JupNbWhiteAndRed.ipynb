{
 "cells": [
  {
   "cell_type": "code",
   "metadata": {},
   "outputs": [],
   "source": [
    "# Если Вы запускаете ноутбук на colab,\n",
    "# выполните следующие строчки, чтобы подгрузить библиотеки:\n",
    "#import sys; sys.path.append('/content/NeyroWineQuality')\n",
    "# !git clone https://github.com/KrisAnTis-Group/NeyroWineQuality.git && pip install -r NeyroWineQuality/requirements.txt"
   ]
  },
  {
   "cell_type": "code",
   "metadata": {},
   "outputs": [],
   "source": [
    "import numpy as np\n",
    "\n",
    "# загружаем данные с фичами\n",
    "datasetRed = np.loadtxt(\"/content/NeyroWineQuality/DataSet/winequality-red.txt\", delimiter=\";\")\n",
    "datasetWhite = np.loadtxt(\"/content/NeyroWineQuality/DataSet/winequality-white.txt\", delimiter=\";\")\n",
    "\n",
    "#формируем едины массив красного и белое вина\n",
    "X = np.concatenate((datasetRed[:, 0:-1], datasetWhite[:, 0:-1]))\n",
    "Y = np.concatenate((datasetRed[:, -1:], datasetWhite[:, -1:]))\n",
    "\n",
    "#приведение типов\n",
    "#метки в int т.к. многоклассовая однозначная классификация\n",
    "X = np.asarray(X).astype('float32')\n",
    "Y = np.asarray(Y).astype('int')\n",
    "\n"
   ]
  },
  {
   "cell_type": "code",
   "metadata": {},
   "outputs": [],
   "source": [
    "#векторизация меток(целей)\n",
    "#количество меток рассчитывается исходя из датасета\n",
    "def to_one_hot(labels, demension):\n",
    "    results = np.zeros((len(labels), demension))\n",
    "    step_shift = labels.min()\n",
    "    for i, label in enumerate(labels):\n",
    "        results[i, int(label - step_shift)] = 1\n",
    "    return results\n",
    "\n",
    "\n",
    "size_output_demension = int(Y.max() - Y.min() + 1)\n",
    "Y = to_one_hot(Y, size_output_demension)\n",
    "\n",
    "print(\"DataSet:\\nattributes: \", X.shape[1], \"\\nsamples:\", X.shape[0],\n",
    "      \"\\nclass labels:\", size_output_demension)\n"
   ]
  },
  {
   "cell_type": "code",
   "metadata": {},
   "outputs": [],
   "source": [
    "#Перемешивание вариантов\n",
    "indices = np.arange(X.shape[0])\n",
    "np.random.shuffle(indices)\n",
    "X = X[indices]\n",
    "Y = Y[indices]\n",
    "\n",
    "#разделение датасета на тренировочный и тестовый\n",
    "validation_split = 0.3\n",
    "validation_samples = int(X.shape[0] * validation_split)\n",
    "train_samples = X.shape[0] - validation_samples\n",
    "\n",
    "X_train = X[:train_samples]\n",
    "Y_train = Y[:train_samples]\n",
    "X_val = X[train_samples:]\n",
    "Y_val = Y[train_samples:]\n",
    "\n",
    "print(\"train_samples: \", train_samples, \"\\nvalidation_samples:\",\n",
    "      validation_samples)\n",
    "\n",
    "#нормализация по тренировочной выборке\n",
    "mean = X_train.mean(axis=0)\n",
    "X_train -= mean\n",
    "std = X_train.std(axis=0)\n",
    "X_train /= std\n",
    "\n",
    "X_val -= mean\n",
    "X_val /= std\n"
   ]
  },
  {
   "cell_type": "code",
   "metadata": {},
   "outputs": [],
   "source": [
    "#импорт библиотек Keras\n",
    "from keras import models\n",
    "from keras import layers\n",
    "from keras import regularizers\n",
    "from keras.optimizers import RMSprop\n",
    "\n",
    "#построение модели\n",
    "model = models.Sequential()\n",
    "model.add(layers.Dense(32, activation='relu', input_shape=(X.shape[1], )))\n",
    "model.add(layers.Dropout(0.15))\n",
    "model.add(layers.BatchNormalization())\n",
    "model.add(layers.Dense(32, activation='relu'))\n",
    "model.add(layers.Dropout(0.1))\n",
    "model.add(layers.BatchNormalization())\n",
    "model.add(layers.Dense(16, activation='relu'))\n",
    "model.add(layers.Dense(16, activation='relu'))\n",
    "model.add(layers.BatchNormalization())\n",
    "model.add(layers.Dense(size_output_demension, activation='softmax'))\n"
   ]
  },
  {
   "cell_type": "code",
   "metadata": {},
   "outputs": [],
   "source": [
    "#обучение модели\n",
    "model.compile(optimizer=RMSprop(lr=1e-4),\n",
    "              loss='categorical_crossentropy',\n",
    "              metrics=['accuracy'])\n",
    "\n",
    "history = model.fit(X_train,\n",
    "                    Y_train,\n",
    "                    epochs=100,\n",
    "                    batch_size=64,\n",
    "                    validation_data=[X_val, Y_val])\n"
   ]
  },
  {
   "cell_type": "code",
   "metadata": {},
   "outputs": [],
   "source": [
    "#графики изменения качества модели\n",
    "import matplotlib.pyplot as plt\n",
    "\n",
    "acc = history.history['acc']\n",
    "val_acc = history.history['val_acc']\n",
    "loss = history.history['loss']\n",
    "val_loss = history.history['val_loss']\n",
    "\n",
    "epochs = range(1, len(acc) + 1)\n",
    "\n",
    "plt.plot(epochs, acc, 'bo', label='Training acc')\n",
    "plt.plot(epochs, val_acc, 'b', label='Validation acc')\n",
    "plt.title('Training and validation accuracy')\n",
    "plt.legend()\n",
    "\n",
    "plt.figure()\n",
    "\n",
    "plt.plot(epochs, loss, 'bo', label='Training loss')\n",
    "plt.plot(epochs, val_loss, 'b', label='Validation val_loss')\n",
    "plt.title('Training and validation loss')\n",
    "plt.legend()\n",
    "\n",
    "plt.show()"
   ]
  }
 ],
 "metadata": {
  "file_extension": ".py",
  "kernelspec": {
   "display_name": "Python 3",
   "language": "python",
   "name": "python3"
  },
  "language_info": {
   "codemirror_mode": {
    "name": "ipython",
    "version": 3
   },
   "file_extension": ".py",
   "mimetype": "text/x-python",
   "name": "python",
   "nbconvert_exporter": "python",
   "pygments_lexer": "ipython3",
   "version": "3.6.8"
  },
  "mimetype": "text/x-python",
  "name": "python",
  "npconvert_exporter": "python",
  "pygments_lexer": "ipython3",
  "version": 3
 },
 "nbformat": 4,
 "nbformat_minor": 2
}